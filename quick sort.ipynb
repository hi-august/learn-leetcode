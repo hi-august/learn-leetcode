{
 "cells": [
  {
   "cell_type": "markdown",
   "metadata": {},
   "source": [
    "## 快速排序"
   ]
  },
  {
   "cell_type": "markdown",
   "metadata": {},
   "source": [
    "1. 对数组进行随机化\n",
    "2. 从数组取一个数作为中轴数(pivot)\n",
    "3. 比pivot中轴数大的放右边,小的放左边"
   ]
  },
  {
   "cell_type": "code",
   "execution_count": 3,
   "metadata": {},
   "outputs": [
    {
     "name": "stdout",
     "output_type": "stream",
     "text": [
      "[1, 3, 3, 7, 8, 9, 9]\n"
     ]
    }
   ],
   "source": [
    "def quick_sort(lst):\n",
    "    less = []\n",
    "    equal = []\n",
    "    greater = []\n",
    "    if len(lst) > 1:\n",
    "        for x in lst:\n",
    "            pivot = lst[0]\n",
    "            if x < pivot:\n",
    "                less.append(x)\n",
    "            elif x == pivot:\n",
    "                equal.append(x)\n",
    "            elif x > pivot:\n",
    "                greater.append(x)\n",
    "        return sorted(less) + equal + sorted(greater)\n",
    "    else:\n",
    "        return lst\n",
    "b = quick_sort([3, 8, 9, 1, 9, 7, 3])\n",
    "print b"
   ]
  },
  {
   "cell_type": "code",
   "execution_count": null,
   "metadata": {
    "collapsed": true
   },
   "outputs": [],
   "source": []
  }
 ],
 "metadata": {
  "kernelspec": {
   "display_name": "Python 2",
   "language": "python",
   "name": "python2"
  },
  "language_info": {
   "codemirror_mode": {
    "name": "ipython",
    "version": 2
   },
   "file_extension": ".py",
   "mimetype": "text/x-python",
   "name": "python",
   "nbconvert_exporter": "python",
   "pygments_lexer": "ipython2",
   "version": "2.7.10"
  }
 },
 "nbformat": 4,
 "nbformat_minor": 2
}
