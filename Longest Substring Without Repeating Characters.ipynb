{
 "cells": [
  {
   "cell_type": "markdown",
   "metadata": {},
   "source": [
    "### 找出一个字符串的最长字符串，要求该字符串中没有重复的字符。"
   ]
  },
  {
   "cell_type": "markdown",
   "metadata": {},
   "source": [
    "#### 输入: \"abcabcbb\" 输出: 3, 输入: \"bbbbbb\" 输出: 1"
   ]
  },
  {
   "cell_type": "markdown",
   "metadata": {},
   "source": [
    "## 解题思路"
   ]
  },
  {
   "cell_type": "markdown",
   "metadata": {},
   "source": [
    "#### 将没有重复字符的子串称为目标字符串。遍历字符串的所有字符，记录下每个字符最近出现的下标位置，如果该下标比目标字符串的起始下标大，说明目标字符串中已经有该字符了，刷新目标字符串的起始坐标。找出所有目标串的最大长度就是题目要求的答案。"
   ]
  },
  {
   "cell_type": "code",
   "execution_count": 7,
   "metadata": {},
   "outputs": [
    {
     "name": "stdout",
     "output_type": "stream",
     "text": [
      "4\n"
     ]
    }
   ],
   "source": [
    "class Solution:\n",
    "    def longest_substring(self, s):\n",
    "        if not s:\n",
    "            return 0\n",
    "        if len(s) <=1:\n",
    "            return 1\n",
    "        locations = [-1 for i in range(256)]\n",
    "        index = -1\n",
    "        m = 0\n",
    "        for i, v in enumerate(s):\n",
    "            if (locations[ord(v)] > index):\n",
    "                index = locations[ord(v)]\n",
    "            m = max(m, i - index)\n",
    "            locations[ord(v)] = i\n",
    "        return m\n",
    "b = Solution().longest_substring(\"abceabas\")\n",
    "print b"
   ]
  },
  {
   "cell_type": "code",
   "execution_count": null,
   "metadata": {
    "collapsed": true
   },
   "outputs": [],
   "source": []
  }
 ],
 "metadata": {
  "kernelspec": {
   "display_name": "Python 2",
   "language": "python",
   "name": "python2"
  },
  "language_info": {
   "codemirror_mode": {
    "name": "ipython",
    "version": 2
   },
   "file_extension": ".py",
   "mimetype": "text/x-python",
   "name": "python",
   "nbconvert_exporter": "python",
   "pygments_lexer": "ipython2",
   "version": "2.7.10"
  }
 },
 "nbformat": 4,
 "nbformat_minor": 2
}
