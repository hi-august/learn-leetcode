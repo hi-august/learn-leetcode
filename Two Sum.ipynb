{
 "cells": [
  {
   "cell_type": "markdown",
   "metadata": {},
   "source": [
    "## 给一个int数组,要求找出两个和为特定值的数的坐标"
   ]
  },
  {
   "cell_type": "code",
   "execution_count": 2,
   "metadata": {},
   "outputs": [
    {
     "name": "stdout",
     "output_type": "stream",
     "text": [
      "Python 2.7.10\r\n"
     ]
    }
   ],
   "source": [
    "!python -V"
   ]
  },
  {
   "cell_type": "markdown",
   "metadata": {
    "collapsed": true
   },
   "source": [
    "### 输入: numbers={2, 7, 11, 15}, target=9 输出: index1=1, index2=2"
   ]
  },
  {
   "cell_type": "markdown",
   "metadata": {},
   "source": [
    "## 解题思路"
   ]
  },
  {
   "cell_type": "markdown",
   "metadata": {},
   "source": [
    "#### 第一遍遍历整个数组，用map记录数值和它的坐标，第二遍遍历数组，判断（目标数字-当前数字）是否在map中，如果在，且它的下标与当前数字的下标不相同，则说明存在这两个数，返回坐标"
   ]
  },
  {
   "cell_type": "code",
   "execution_count": 9,
   "metadata": {},
   "outputs": [
    {
     "name": "stdout",
     "output_type": "stream",
     "text": [
      "{'index2': 2, 'index1': 1}\n"
     ]
    }
   ],
   "source": [
    "numbers = [2, 7, 11, 15]\n",
    "\n",
    "\n",
    "class Solution:\n",
    "    def twosum(self, nums, target):\n",
    "        hash_map = {}\n",
    "        for idx, y in enumerate(nums):\n",
    "            hash_map[y] = idx\n",
    "        for idx, y in enumerate(nums):\n",
    "            if target - y in hash_map:\n",
    "                idx2 = hash_map[target -y ]\n",
    "                if idx != idx2:\n",
    "                    return {'index1': idx+1, 'index2': idx2+1}\n",
    "b = Solution().twosum(numbers, target=9)\n",
    "print b\n",
    "        "
   ]
  },
  {
   "cell_type": "code",
   "execution_count": null,
   "metadata": {
    "collapsed": true
   },
   "outputs": [],
   "source": []
  }
 ],
 "metadata": {
  "kernelspec": {
   "display_name": "Python 2",
   "language": "python",
   "name": "python2"
  },
  "language_info": {
   "codemirror_mode": {
    "name": "ipython",
    "version": 2
   },
   "file_extension": ".py",
   "mimetype": "text/x-python",
   "name": "python",
   "nbconvert_exporter": "python",
   "pygments_lexer": "ipython2",
   "version": "2.7.10"
  }
 },
 "nbformat": 4,
 "nbformat_minor": 2
}
