{
 "cells": [
  {
   "cell_type": "markdown",
   "metadata": {},
   "source": [
    "## 二分查找"
   ]
  },
  {
   "cell_type": "markdown",
   "metadata": {},
   "source": [
    "1. 找到中间值\n",
    "2. 比中间值小的继续在左边查找,比中间值大的继续查找右边\n",
    "3. 直到找到值"
   ]
  },
  {
   "cell_type": "code",
   "execution_count": 6,
   "metadata": {},
   "outputs": [
    {
     "name": "stdout",
     "output_type": "stream",
     "text": [
      "target in left [5]\n",
      "found [2]\n"
     ]
    }
   ],
   "source": [
    "def binary_search(lst, target):\n",
    "    # 取一个中间数\n",
    "    mid = int(len(lst)/2)\n",
    "    # 确认数据大于1\n",
    "    if int(len(lst)) > 1:\n",
    "        # 判断中间数\n",
    "        if lst[mid] > target:\n",
    "            print('target in left [%s]' %lst[mid])\n",
    "            binary_search(lst[:mid], target)\n",
    "        elif lst[mid] < target:\n",
    "            print('target in right [%s]'%lst['mid'])\n",
    "            binary_search(lst[mid:], target)\n",
    "        else:\n",
    "            print('found [%s]'%lst[mid])\n",
    "    else:\n",
    "        print('not found')\n",
    "binary_search(range(0, 10), 2)"
   ]
  },
  {
   "cell_type": "code",
   "execution_count": null,
   "metadata": {
    "collapsed": true
   },
   "outputs": [],
   "source": []
  }
 ],
 "metadata": {
  "kernelspec": {
   "display_name": "Python 2",
   "language": "python",
   "name": "python2"
  },
  "language_info": {
   "codemirror_mode": {
    "name": "ipython",
    "version": 2
   },
   "file_extension": ".py",
   "mimetype": "text/x-python",
   "name": "python",
   "nbconvert_exporter": "python",
   "pygments_lexer": "ipython2",
   "version": "2.7.10"
  }
 },
 "nbformat": 4,
 "nbformat_minor": 2
}
